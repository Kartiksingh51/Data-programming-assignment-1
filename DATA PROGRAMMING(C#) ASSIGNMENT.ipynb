{
 "cells": [
  {
   "cell_type": "markdown",
   "metadata": {},
   "source": [
    "# Question No1"
   ]
  },
  {
   "cell_type": "markdown",
   "metadata": {},
   "source": [
    "what data type is each of the following?\n",
    "\n",
    "5 5.0 5 > 1 '5' 5 2 '5' 2 '5' + '2' 5 / 2 5 // 2 [5, 2, 1] 5 in [1, 4, 6] P i (the\n",
    "\n",
    "5    \n",
    "5.0   \n",
    "5>1   \n",
    "'5'   \n",
    "5*2   \n",
    "'5'+'2' \n",
    "5/2  \n",
    "5//2  \n",
    "[5,2,1] \n",
    "5 in [1,4,6] \n",
    "pi(the number) "
   ]
  },
  {
   "cell_type": "markdown",
   "metadata": {},
   "source": [
    "Answers\n",
    "5    byte\n",
    "5.0   double\n",
    "5>1   Boolean\n",
    "'5'   char\n",
    "5*2   int\n",
    "'5'+'2' long\n",
    "5/2  int\n",
    "5//2  int\n",
    "[5,2,1] array\n",
    "5 in [1,4,6] Null\n",
    "pi(the number) float"
   ]
  },
  {
   "cell_type": "markdown",
   "metadata": {},
   "source": [
    "# Question No2"
   ]
  },
  {
   "cell_type": "markdown",
   "metadata": {},
   "source": [
    "Write (and evaluate) C# expressions that answer these questions: a. How many letters are there in 'Supercalifragilisticexpialidocious'? b. Does 'Supercalifragilisticexpialidocious' contain 'ice' as a substring? c. Which of the following words is the longest: Supercalifragilisticexpialidocious, Honorificabilitudinitatibus, or Bababadalgharaghtakamminarronnkonn? d. Which composer comes first in the dictionary: 'Berlioz', 'Borodin', 'Brian', 'Bartok', 'Bellini', 'Buxtehude', 'Bernstein'. Which one comes last?"
   ]
  },
  {
   "cell_type": "code",
   "execution_count": 1,
   "metadata": {},
   "outputs": [
    {
     "ename": "SyntaxError",
     "evalue": "invalid syntax (<ipython-input-1-730d8645b5af>, line 1)",
     "output_type": "error",
     "traceback": [
      "\u001b[1;36m  File \u001b[1;32m\"<ipython-input-1-730d8645b5af>\"\u001b[1;36m, line \u001b[1;32m1\u001b[0m\n\u001b[1;33m    using System;\u001b[0m\n\u001b[1;37m          ^\u001b[0m\n\u001b[1;31mSyntaxError\u001b[0m\u001b[1;31m:\u001b[0m invalid syntax\n"
     ]
    }
   ],
   "source": [
    "using System;\n",
    "\n",
    "namespace data_programming\n",
    "{\n",
    "    class Program\n",
    "    {\n",
    "        static void Main(string[] args)\n",
    "        {\n",
    "            int x;\n",
    "            string y = \"Supercalifragilisticexpialidocious\";\n",
    "            x = y.Length;\n",
    "            Console.WriteLine(x);\n",
    "        }\n",
    "    }\n",
    "}"
   ]
  },
  {
   "cell_type": "code",
   "execution_count": null,
   "metadata": {},
   "outputs": [],
   "source": [
    "using System;\n",
    "\n",
    "public class Program\n",
    "{\n",
    "    public static void Main()\n",
    "    {\n",
    "        bool check = false; \n",
    "        string test1 = \"Supercalifragilisticexpialidocious\";\n",
    "            for(int i = 0; i < test1.Length - 2; i++ ){\n",
    "                if(test1[i]=='i'&test1[i+1]=='c'&test1[i+2]=='e'){\n",
    "                    check = true;\n",
    "                    break;\n",
    "                }\n",
    "            }\n",
    "        if(check == true){\n",
    "            Console.WriteLine(\"Yes， it contains ice\");\n",
    "        }else{\n",
    "            Console.WriteLine(\"No\");\n",
    "        }\n",
    "    }\n",
    "}"
   ]
  },
  {
   "cell_type": "code",
   "execution_count": null,
   "metadata": {},
   "outputs": [],
   "source": [
    "using System;\n",
    "\n",
    "public class Program\n",
    "{\n",
    "    public static void Main()\n",
    "    {\n",
    "         string first = \"Supercalifragilisticexpialidocious\";\n",
    "            string second = \"Honorificabilitudinitatibus\";\n",
    "            string third = \"Bababadalgharaghtakamminarronnkonn\";\n",
    "            if (first.Length >= second.Length)\n",
    "            {\n",
    "                if (first.Length >= third.Length)\n",
    "                {\n",
    "                    Console.WriteLine(first + \" is the longest!\");\n",
    "                }\n",
    "                else\n",
    "                {\n",
    "                    Console.WriteLine(third + \" is the longest!\");\n",
    "                }\n",
    "            }\n",
    "            else\n",
    "            {\n",
    "                if (second.Length >= third.Length)\n",
    "                {\n",
    "                    Console.WriteLine(second + \" is the longest!\");\n",
    "                }\n",
    "                else\n",
    "                {\n",
    "                    Console.WriteLine(third + \" is the longest!\");\n",
    "                }\n",
    "            }\n",
    "\n",
    "\n",
    "        }\n",
    "    }\n",
    "}"
   ]
  },
  {
   "cell_type": "code",
   "execution_count": null,
   "metadata": {},
   "outputs": [],
   "source": [
    "using System;\n",
    "\n",
    "public class Program\n",
    "{\n",
    "    public static void Main()\n",
    "    {\n",
    "        string[] set1 = {\"Berlioz\", \"Borodin\", \"Brian\",\"Bartok\", \"Bellini\", \"Buxtehude\", \"Bernstein\"};\n",
    "        Array.Sort<string>(set1);\n",
    "        Console.WriteLine(set1[0]);\n",
    "        Console.WriteLine(set1[set1.Length-1]);\n",
    "    }\n",
    "}"
   ]
  },
  {
   "cell_type": "markdown",
   "metadata": {},
   "source": [
    "# Question No3"
   ]
  },
  {
   "cell_type": "markdown",
   "metadata": {},
   "source": [
    "Implement function triangleArea(a,b,c) that takes as input the lengths of the 3 sides of a triangle and returns the area of the triangle. By Heron's formula, the area of a triangle with side lengths a, b, and c is s(s - a)(s -b)(s -c), where s = (a + b + c) /2."
   ]
  },
  {
   "cell_type": "code",
   "execution_count": null,
   "metadata": {},
   "outputs": [],
   "source": [
    "using System;\n",
    "\n",
    "public class Program\n",
    "{\n",
    "    public static void Main()\n",
    "    {\n",
    "        double result = trangleArea(2,2,2);\n",
    "        Console.WriteLine(result);\n",
    "    }\n",
    "    static public double trangleArea(double a, double b, double c)\n",
    "    { \n",
    "        double s = (a + b + c)/2;\n",
    "        double result = Math.Sqrt(s(s-a)(s-b)*(s-c));\n",
    "        return result;\n",
    "    }"
   ]
  },
  {
   "cell_type": "markdown",
   "metadata": {},
   "source": [
    "# Question No4"
   ]
  },
  {
   "cell_type": "markdown",
   "metadata": {},
   "source": [
    "Write a program in C# Sharp to separate odd and even integers in separate arrays. Go to the editor\n",
    "\n",
    "Test Data :\n",
    "\n",
    "Input the number of elements to be stored in the array :5\n",
    "\n",
    "Input 5 elements in the array : element - 0 : 25 element - 1 : 47 element - 2 : 42 element - 3 : 56 element - 4 : 32\n",
    "\n",
    "Expected Output:\n",
    "\n",
    "The Even elements are: 42 56 32\n",
    "\n",
    "The Odd elements are : 25 47"
   ]
  },
  {
   "cell_type": "code",
   "execution_count": null,
   "metadata": {},
   "outputs": [],
   "source": [
    "using System;\n",
    "\n",
    "public class Program\n",
    "{\n",
    "    public static void Main()\n",
    "    {\n",
    "        Console.WriteLine(\"Input the number of elements to be stored in the array:\");\n",
    "        int read_num = Convert.ToInt32(Console.ReadLine());\n",
    "        int[] array_input = new int[read_num];\n",
    "        for(int i = 0 ; i < read_num; i++){\n",
    "            Console.WriteLine(\"element - \"+ i +\" : \");\n",
    "            array_input[i] = Convert.ToInt32(Console.ReadLine());\n",
    "        }\n",
    "        Console.WriteLine(\"The Even elements are:\");\n",
    "        for(int i = 0 ; i < read_num; i++){\n",
    "            if(array_input[i]%2 ==0){\n",
    "                Console.WriteLine(array_input[i]);\n",
    "            }\n",
    "        }\n",
    "        Console.WriteLine(\"The Odd elements are:\");\n",
    "        for(int i = 0 ; i < read_num; i++){\n",
    "            if(array_input[i]%2 != 0){\n",
    "                Console.WriteLine(array_input[i]);\n",
    "            }\n",
    "        }\n",
    "    }\n",
    "}"
   ]
  },
  {
   "cell_type": "markdown",
   "metadata": {},
   "source": [
    "# Question No5"
   ]
  },
  {
   "cell_type": "markdown",
   "metadata": {},
   "source": [
    "a. Write a function inside(x,y,x1,y1,x2,y2) that returns True or False depending on whether the point (x,y) lies in the rectangle with lower left corner (x1,y1) and upper right corner (x2,y2).\n",
    "\n",
    "inside(1,1,0,0,2,3) True inside(-1,-1,0,0,2,3) False b. Use function inside() from part a. to write an expression that tests whether the point (1,1) lies in both of the following rectangles: one with lower left corner (0.3, 0.5) and upper right corner (1.1, 0.7) and the other with lower left corner (0.5, 0.2) and upper right corner (1.1, 2)."
   ]
  },
  {
   "cell_type": "code",
   "execution_count": null,
   "metadata": {},
   "outputs": [],
   "source": [
    "using System;\n",
    "\n",
    "public class Program\n",
    "{\n",
    "    public static void Main()\n",
    "    {\n",
    "        Console.WriteLine(\"Input the number of elements to be stored in the array:\");\n",
    "        int read_num = Convert.ToInt32(Console.ReadLine());\n",
    "        int[] array_input = new int[read_num];\n",
    "        for(int i = 0 ; i < read_num; i++){\n",
    "            Console.WriteLine(\"element - \"+ i +\" : \");\n",
    "            array_input[i] = Convert.ToInt32(Console.ReadLine());\n",
    "        }\n",
    "        Console.WriteLine(\"The Even elements are:\");\n",
    "        for(int i = 0 ; i < read_num; i++){\n",
    "            if(array_input[i]%2 ==0){\n",
    "                Console.WriteLine(array_input[i]);\n",
    "            }\n",
    "        }\n",
    "        Console.WriteLine(\"The Odd elements are:\");\n",
    "        for(int i = 0 ; i < read_num; i++){\n",
    "            if(array_input[i]%2 != 0){\n",
    "                Console.WriteLine(array_input[i]);\n",
    "            }\n",
    "        }\n",
    "    }\n",
    "}"
   ]
  },
  {
   "cell_type": "code",
   "execution_count": null,
   "metadata": {},
   "outputs": [],
   "source": [
    "using System;\n",
    "\n",
    "public class Program\n",
    "{\n",
    "    public static void Main()\n",
    "    {\n",
    "        Console.WriteLine(inside(1,1,0,0,2,3));\n",
    "        Console.WriteLine(inside(-1,-1,0,0,2,3));\n",
    "        Console.WriteLine(inside(1,1,0.3,0.5,1.1,0.7));\n",
    "        Console.WriteLine(inside(1,1,0.5,0.2,1.1,2));\n",
    "    }\n",
    "    static public bool inside(double x, double y, double x1, double y1, double x2, double y2){\n",
    "        bool check_result;\n",
    "        if(x >= x1 & x <= x2 & y >=y1 & y <= y2){\n",
    "            check_result = true;\n",
    "        }else{\n",
    "            check_result = false;\n",
    "        }\n",
    "        return check_result;\n",
    "    }\n",
    "}"
   ]
  }
 ],
 "metadata": {
  "kernelspec": {
   "display_name": "Python 3",
   "language": "python",
   "name": "python3"
  },
  "language_info": {
   "codemirror_mode": {
    "name": "ipython",
    "version": 3
   },
   "file_extension": ".py",
   "mimetype": "text/x-python",
   "name": "python",
   "nbconvert_exporter": "python",
   "pygments_lexer": "ipython3",
   "version": "3.8.5"
  }
 },
 "nbformat": 4,
 "nbformat_minor": 4
}
